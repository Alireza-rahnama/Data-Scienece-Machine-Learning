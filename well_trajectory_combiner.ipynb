{
  "nbformat": 4,
  "nbformat_minor": 0,
  "metadata": {
    "colab": {
      "name": "well_trajectory_combiner.ipynb",
      "provenance": [],
      "history_visible": true,
      "collapsed_sections": [],
      "authorship_tag": "ABX9TyN0igMi8ij5/BS5TZz6afLN",
      "include_colab_link": true
    },
    "kernelspec": {
      "name": "python3",
      "display_name": "Python 3"
    },
    "language_info": {
      "name": "python"
    }
  },
  "cells": [
    {
      "cell_type": "markdown",
      "metadata": {
        "id": "view-in-github",
        "colab_type": "text"
      },
      "source": [
        "<a href=\"https://colab.research.google.com/github/Alireza-rahnama/Data-Scienece-Machine-Learning/blob/master/well_trajectory_combiner.ipynb\" target=\"_parent\"><img src=\"https://colab.research.google.com/assets/colab-badge.svg\" alt=\"Open In Colab\"/></a>"
      ]
    },
    {
      "cell_type": "code",
      "execution_count": null,
      "metadata": {
        "id": "oFRzATxXfTs0"
      },
      "outputs": [],
      "source": [
        ""
      ]
    },
    {
      "cell_type": "code",
      "source": [
        "import pandas as pd\n",
        "import numpy as np\n",
        "from pathlib import Path\n",
        "import os\n",
        "from google.colab import drive\n",
        "drive.mount('/content/drive', force_remount=True)\n"
      ],
      "metadata": {
        "colab": {
          "base_uri": "https://localhost:8080/"
        },
        "id": "AQswBs8_fnlK",
        "outputId": "b4b17477-3b8d-4bfa-b897-51e25d029ba3"
      },
      "execution_count": 2,
      "outputs": [
        {
          "output_type": "stream",
          "name": "stdout",
          "text": [
            "Mounted at /content/drive\n"
          ]
        }
      ]
    },
    {
      "cell_type": "code",
      "source": [
        "to_be_combined_files=[]\n",
        "\n",
        "for i in (Path(\"/content/drive/MyDrive/ExtractedWITSMLData/\").rglob(('*.csv'))):    # recursively searches ExtractedWITSMLData folder and subfolders for csv files\n",
        "\n",
        "    if 'trajectory' in str(i):\n",
        "      print(i)  \n",
        "      to_be_combined_files.append(i)                                                           \n",
        "      print(str(i).split(\"\\\\\")[-1], 'found in trajectory folder!')\n",
        "print ('Checking is done.')\n",
        "print(to_be_combined_files)\n",
        "\n",
        "\n",
        "\n"
      ],
      "metadata": {
        "id": "nzDCTD5zfqtf",
        "colab": {
          "base_uri": "https://localhost:8080/"
        },
        "outputId": "bff9c5b2-9154-496d-a429-cf13a60681ed"
      },
      "execution_count": 3,
      "outputs": [
        {
          "output_type": "stream",
          "name": "stdout",
          "text": [
            "/content/drive/MyDrive/ExtractedWITSMLData/Norway-Statoil-NO 15_$47$_9-F-4/1/trajectory/1.csv\n",
            "/content/drive/MyDrive/ExtractedWITSMLData/Norway-Statoil-NO 15_$47$_9-F-4/1/trajectory/1.csv found in trajectory folder!\n",
            "/content/drive/MyDrive/ExtractedWITSMLData/Norway-Statoil-NO 15_$47$_9-F-5/1/trajectory/1.csv\n",
            "/content/drive/MyDrive/ExtractedWITSMLData/Norway-Statoil-NO 15_$47$_9-F-5/1/trajectory/1.csv found in trajectory folder!\n",
            "/content/drive/MyDrive/ExtractedWITSMLData/Norway-Statoil-NO 15_$47$_9-F-7/1/trajectory/1.csv\n",
            "/content/drive/MyDrive/ExtractedWITSMLData/Norway-Statoil-NO 15_$47$_9-F-7/1/trajectory/1.csv found in trajectory folder!\n",
            "/content/drive/MyDrive/ExtractedWITSMLData/Norway-Statoil-NO 15_$47$_9-F-9/1/trajectory/1.csv\n",
            "/content/drive/MyDrive/ExtractedWITSMLData/Norway-Statoil-NO 15_$47$_9-F-9/1/trajectory/1.csv found in trajectory folder!\n",
            "/content/drive/MyDrive/ExtractedWITSMLData/Norway-StatoilHydro-15_$47$_9-F-10/1/trajectory/4.csv\n",
            "/content/drive/MyDrive/ExtractedWITSMLData/Norway-StatoilHydro-15_$47$_9-F-10/1/trajectory/4.csv found in trajectory folder!\n",
            "/content/drive/MyDrive/ExtractedWITSMLData/Norway-StatoilHydro-15_$47$_9-F-10/1/trajectory/2.csv\n",
            "/content/drive/MyDrive/ExtractedWITSMLData/Norway-StatoilHydro-15_$47$_9-F-10/1/trajectory/2.csv found in trajectory folder!\n",
            "/content/drive/MyDrive/ExtractedWITSMLData/Norway-StatoilHydro-15_$47$_9-F-10/1/trajectory/5.csv\n",
            "/content/drive/MyDrive/ExtractedWITSMLData/Norway-StatoilHydro-15_$47$_9-F-10/1/trajectory/5.csv found in trajectory folder!\n",
            "/content/drive/MyDrive/ExtractedWITSMLData/Norway-StatoilHydro-15_$47$_9-F-10/1/trajectory/3.csv\n",
            "/content/drive/MyDrive/ExtractedWITSMLData/Norway-StatoilHydro-15_$47$_9-F-10/1/trajectory/3.csv found in trajectory folder!\n",
            "/content/drive/MyDrive/ExtractedWITSMLData/Norway-StatoilHydro-15_$47$_9-F-10/1/trajectory/1.csv\n",
            "/content/drive/MyDrive/ExtractedWITSMLData/Norway-StatoilHydro-15_$47$_9-F-10/1/trajectory/1.csv found in trajectory folder!\n",
            "/content/drive/MyDrive/ExtractedWITSMLData/Norway-StatoilHydro-15_$47$_9-F-14/1/trajectory/3.csv\n",
            "/content/drive/MyDrive/ExtractedWITSMLData/Norway-StatoilHydro-15_$47$_9-F-14/1/trajectory/3.csv found in trajectory folder!\n",
            "/content/drive/MyDrive/ExtractedWITSMLData/Norway-StatoilHydro-15_$47$_9-F-14/1/trajectory/2.csv\n",
            "/content/drive/MyDrive/ExtractedWITSMLData/Norway-StatoilHydro-15_$47$_9-F-14/1/trajectory/2.csv found in trajectory folder!\n",
            "/content/drive/MyDrive/ExtractedWITSMLData/Norway-StatoilHydro-15_$47$_9-F-14/1/trajectory/4.csv\n",
            "/content/drive/MyDrive/ExtractedWITSMLData/Norway-StatoilHydro-15_$47$_9-F-14/1/trajectory/4.csv found in trajectory folder!\n",
            "/content/drive/MyDrive/ExtractedWITSMLData/Norway-StatoilHydro-15_$47$_9-F-14/1/trajectory/1.csv\n",
            "/content/drive/MyDrive/ExtractedWITSMLData/Norway-StatoilHydro-15_$47$_9-F-14/1/trajectory/1.csv found in trajectory folder!\n",
            "/content/drive/MyDrive/ExtractedWITSMLData/Norway-StatoilHydro-15_$47$_9-F-14/1/trajectory/5.csv\n",
            "/content/drive/MyDrive/ExtractedWITSMLData/Norway-StatoilHydro-15_$47$_9-F-14/1/trajectory/5.csv found in trajectory folder!\n",
            "/content/drive/MyDrive/ExtractedWITSMLData/Norway-StatoilHydro-15_$47$_9-F-15/1/trajectory/1.csv\n",
            "/content/drive/MyDrive/ExtractedWITSMLData/Norway-StatoilHydro-15_$47$_9-F-15/1/trajectory/1.csv found in trajectory folder!\n",
            "/content/drive/MyDrive/ExtractedWITSMLData/Norway-StatoilHydro-15_$47$_9-F-15/1/trajectory/2.csv\n",
            "/content/drive/MyDrive/ExtractedWITSMLData/Norway-StatoilHydro-15_$47$_9-F-15/1/trajectory/2.csv found in trajectory folder!\n",
            "/content/drive/MyDrive/ExtractedWITSMLData/Norway-StatoilHydro-15_$47$_9-F-15A/1/trajectory/2.csv\n",
            "/content/drive/MyDrive/ExtractedWITSMLData/Norway-StatoilHydro-15_$47$_9-F-15A/1/trajectory/2.csv found in trajectory folder!\n",
            "/content/drive/MyDrive/ExtractedWITSMLData/Norway-StatoilHydro-15_$47$_9-F-15B/1/trajectory/1.csv\n",
            "/content/drive/MyDrive/ExtractedWITSMLData/Norway-StatoilHydro-15_$47$_9-F-15B/1/trajectory/1.csv found in trajectory folder!\n",
            "/content/drive/MyDrive/ExtractedWITSMLData/Norway-StatoilHydro-15_$47$_9-F-15S/1/trajectory/1.csv\n",
            "/content/drive/MyDrive/ExtractedWITSMLData/Norway-StatoilHydro-15_$47$_9-F-15S/1/trajectory/1.csv found in trajectory folder!\n",
            "/content/drive/MyDrive/ExtractedWITSMLData/Norway-StatoilHydro-15_$47$_9-F-15S/1/trajectory/2.csv\n",
            "/content/drive/MyDrive/ExtractedWITSMLData/Norway-StatoilHydro-15_$47$_9-F-15S/1/trajectory/2.csv found in trajectory folder!\n",
            "/content/drive/MyDrive/ExtractedWITSMLData/Norway-StatoilHydro-15_$47$_9-F-4/2/trajectory/4.csv\n",
            "/content/drive/MyDrive/ExtractedWITSMLData/Norway-StatoilHydro-15_$47$_9-F-4/2/trajectory/4.csv found in trajectory folder!\n",
            "/content/drive/MyDrive/ExtractedWITSMLData/Norway-StatoilHydro-15_$47$_9-F-4/2/trajectory/2.csv\n",
            "/content/drive/MyDrive/ExtractedWITSMLData/Norway-StatoilHydro-15_$47$_9-F-4/2/trajectory/2.csv found in trajectory folder!\n",
            "/content/drive/MyDrive/ExtractedWITSMLData/Norway-StatoilHydro-15_$47$_9-F-4/2/trajectory/5.csv\n",
            "/content/drive/MyDrive/ExtractedWITSMLData/Norway-StatoilHydro-15_$47$_9-F-4/2/trajectory/5.csv found in trajectory folder!\n",
            "/content/drive/MyDrive/ExtractedWITSMLData/Norway-StatoilHydro-15_$47$_9-F-4/2/trajectory/3.csv\n",
            "/content/drive/MyDrive/ExtractedWITSMLData/Norway-StatoilHydro-15_$47$_9-F-4/2/trajectory/3.csv found in trajectory folder!\n",
            "/content/drive/MyDrive/ExtractedWITSMLData/Norway-StatoilHydro-15_$47$_9-F-4/2/trajectory/1.csv\n",
            "/content/drive/MyDrive/ExtractedWITSMLData/Norway-StatoilHydro-15_$47$_9-F-4/2/trajectory/1.csv found in trajectory folder!\n",
            "/content/drive/MyDrive/ExtractedWITSMLData/Norway-StatoilHydro-15_$47$_9-F-5/1/trajectory/1.csv\n",
            "/content/drive/MyDrive/ExtractedWITSMLData/Norway-StatoilHydro-15_$47$_9-F-5/1/trajectory/1.csv found in trajectory folder!\n",
            "/content/drive/MyDrive/ExtractedWITSMLData/Norway-StatoilHydro-15_$47$_9-F-5/1/trajectory/3.csv\n",
            "/content/drive/MyDrive/ExtractedWITSMLData/Norway-StatoilHydro-15_$47$_9-F-5/1/trajectory/3.csv found in trajectory folder!\n",
            "/content/drive/MyDrive/ExtractedWITSMLData/Norway-StatoilHydro-15_$47$_9-F-5/1/trajectory/2.csv\n",
            "/content/drive/MyDrive/ExtractedWITSMLData/Norway-StatoilHydro-15_$47$_9-F-5/1/trajectory/2.csv found in trajectory folder!\n",
            "/content/drive/MyDrive/ExtractedWITSMLData/Norway-StatoilHydro-15_$47$_9-F-5/1/trajectory/4.csv\n",
            "/content/drive/MyDrive/ExtractedWITSMLData/Norway-StatoilHydro-15_$47$_9-F-5/1/trajectory/4.csv found in trajectory folder!\n",
            "/content/drive/MyDrive/ExtractedWITSMLData/Norway-StatoilHydro-15_$47$_9-F-9/1/trajectory/1.csv\n",
            "/content/drive/MyDrive/ExtractedWITSMLData/Norway-StatoilHydro-15_$47$_9-F-9/1/trajectory/1.csv found in trajectory folder!\n",
            "/content/drive/MyDrive/ExtractedWITSMLData/Norway-StatoilHydro-15_$47$_9-F-9/1/trajectory/2.csv\n",
            "/content/drive/MyDrive/ExtractedWITSMLData/Norway-StatoilHydro-15_$47$_9-F-9/1/trajectory/2.csv found in trajectory folder!\n",
            "/content/drive/MyDrive/ExtractedWITSMLData/Norway-StatoilHydro-15_$47$_9-F-9/1/trajectory/3.csv\n",
            "/content/drive/MyDrive/ExtractedWITSMLData/Norway-StatoilHydro-15_$47$_9-F-9/1/trajectory/3.csv found in trajectory folder!\n",
            "/content/drive/MyDrive/ExtractedWITSMLData/Norway-NA-15_$47$_9-F-1/1/trajectory/1.csv\n",
            "/content/drive/MyDrive/ExtractedWITSMLData/Norway-NA-15_$47$_9-F-1/1/trajectory/1.csv found in trajectory folder!\n",
            "/content/drive/MyDrive/ExtractedWITSMLData/Norway-NA-15_$47$_9-F-9 A/1/trajectory/2.csv\n",
            "/content/drive/MyDrive/ExtractedWITSMLData/Norway-NA-15_$47$_9-F-9 A/1/trajectory/2.csv found in trajectory folder!\n",
            "/content/drive/MyDrive/ExtractedWITSMLData/Norway-NA-15_$47$_9-F-9 A/1/trajectory/1.csv\n",
            "/content/drive/MyDrive/ExtractedWITSMLData/Norway-NA-15_$47$_9-F-9 A/1/trajectory/1.csv found in trajectory folder!\n",
            "/content/drive/MyDrive/ExtractedWITSMLData/Norway-Statoil-15_$47$_9-F-12/1/trajectory/1.csv\n",
            "/content/drive/MyDrive/ExtractedWITSMLData/Norway-Statoil-15_$47$_9-F-12/1/trajectory/1.csv found in trajectory folder!\n",
            "/content/drive/MyDrive/ExtractedWITSMLData/Norway-Statoil-15_$47$_9-F-12/1/trajectory/3.csv\n",
            "/content/drive/MyDrive/ExtractedWITSMLData/Norway-Statoil-15_$47$_9-F-12/1/trajectory/3.csv found in trajectory folder!\n",
            "/content/drive/MyDrive/ExtractedWITSMLData/Norway-Statoil-15_$47$_9-F-12/1/trajectory/5.csv\n",
            "/content/drive/MyDrive/ExtractedWITSMLData/Norway-Statoil-15_$47$_9-F-12/1/trajectory/5.csv found in trajectory folder!\n",
            "/content/drive/MyDrive/ExtractedWITSMLData/Norway-Statoil-15_$47$_9-F-12/1/trajectory/6.csv\n",
            "/content/drive/MyDrive/ExtractedWITSMLData/Norway-Statoil-15_$47$_9-F-12/1/trajectory/6.csv found in trajectory folder!\n",
            "/content/drive/MyDrive/ExtractedWITSMLData/Norway-Statoil-15_$47$_9-F-12/1/trajectory/4.csv\n",
            "/content/drive/MyDrive/ExtractedWITSMLData/Norway-Statoil-15_$47$_9-F-12/1/trajectory/4.csv found in trajectory folder!\n",
            "/content/drive/MyDrive/ExtractedWITSMLData/Norway-Statoil-15_$47$_9-F-12/1/trajectory/2.csv\n",
            "/content/drive/MyDrive/ExtractedWITSMLData/Norway-Statoil-15_$47$_9-F-12/1/trajectory/2.csv found in trajectory folder!\n",
            "/content/drive/MyDrive/ExtractedWITSMLData/Norway-Statoil-15_$47$_9-F-12/1/trajectory/7.csv\n",
            "/content/drive/MyDrive/ExtractedWITSMLData/Norway-Statoil-15_$47$_9-F-12/1/trajectory/7.csv found in trajectory folder!\n",
            "/content/drive/MyDrive/ExtractedWITSMLData/Norway-Statoil-15_$47$_9-F-12/1/trajectory/8.csv\n",
            "/content/drive/MyDrive/ExtractedWITSMLData/Norway-Statoil-15_$47$_9-F-12/1/trajectory/8.csv found in trajectory folder!\n",
            "/content/drive/MyDrive/ExtractedWITSMLData/Norway-Statoil-15_$47$_9-F-7/1/trajectory/1.csv\n",
            "/content/drive/MyDrive/ExtractedWITSMLData/Norway-Statoil-15_$47$_9-F-7/1/trajectory/1.csv found in trajectory folder!\n",
            "/content/drive/MyDrive/ExtractedWITSMLData/Norway-Statoil-15_$47$_9-F-7/1/trajectory/2.csv\n",
            "/content/drive/MyDrive/ExtractedWITSMLData/Norway-Statoil-15_$47$_9-F-7/1/trajectory/2.csv found in trajectory folder!\n",
            "/content/drive/MyDrive/ExtractedWITSMLData/Norway-Statoil-15_$47$_9-F-7/1/trajectory/3.csv\n",
            "/content/drive/MyDrive/ExtractedWITSMLData/Norway-Statoil-15_$47$_9-F-7/1/trajectory/3.csv found in trajectory folder!\n",
            "/content/drive/MyDrive/ExtractedWITSMLData/Norway-Statoil-NO 15_$47$_9-F-1 C/1/trajectory/1.csv\n",
            "/content/drive/MyDrive/ExtractedWITSMLData/Norway-Statoil-NO 15_$47$_9-F-1 C/1/trajectory/1.csv found in trajectory folder!\n",
            "/content/drive/MyDrive/ExtractedWITSMLData/Norway-Statoil-NO 15_$47$_9-F-1 C/2/trajectory/1.csv\n",
            "/content/drive/MyDrive/ExtractedWITSMLData/Norway-Statoil-NO 15_$47$_9-F-1 C/2/trajectory/1.csv found in trajectory folder!\n",
            "/content/drive/MyDrive/ExtractedWITSMLData/Norway-Statoil-NO 15_$47$_9-F-1 C/2/trajectory/2.csv\n",
            "/content/drive/MyDrive/ExtractedWITSMLData/Norway-Statoil-NO 15_$47$_9-F-1 C/2/trajectory/2.csv found in trajectory folder!\n",
            "/content/drive/MyDrive/ExtractedWITSMLData/Norway-Statoil-NO 15_$47$_9-F-1 C/3/trajectory/1.csv\n",
            "/content/drive/MyDrive/ExtractedWITSMLData/Norway-Statoil-NO 15_$47$_9-F-1 C/3/trajectory/1.csv found in trajectory folder!\n",
            "/content/drive/MyDrive/ExtractedWITSMLData/Norway-Statoil-NO 15_$47$_9-F-1 C/4/trajectory/1.csv\n",
            "/content/drive/MyDrive/ExtractedWITSMLData/Norway-Statoil-NO 15_$47$_9-F-1 C/4/trajectory/1.csv found in trajectory folder!\n",
            "/content/drive/MyDrive/ExtractedWITSMLData/Norway-Statoil-NO 15_$47$_9-F-1 C/4/trajectory/2.csv\n",
            "/content/drive/MyDrive/ExtractedWITSMLData/Norway-Statoil-NO 15_$47$_9-F-1 C/4/trajectory/2.csv found in trajectory folder!\n",
            "/content/drive/MyDrive/ExtractedWITSMLData/Norway-Statoil-NO 15_$47$_9-F-11/1/trajectory/1.csv\n",
            "/content/drive/MyDrive/ExtractedWITSMLData/Norway-Statoil-NO 15_$47$_9-F-11/1/trajectory/1.csv found in trajectory folder!\n",
            "/content/drive/MyDrive/ExtractedWITSMLData/Norway-Statoil-NO 15_$47$_9-F-11/2/trajectory/1.csv\n",
            "/content/drive/MyDrive/ExtractedWITSMLData/Norway-Statoil-NO 15_$47$_9-F-11/2/trajectory/1.csv found in trajectory folder!\n",
            "/content/drive/MyDrive/ExtractedWITSMLData/Norway-Statoil-NO 15_$47$_9-F-11/2/trajectory/2.csv\n",
            "/content/drive/MyDrive/ExtractedWITSMLData/Norway-Statoil-NO 15_$47$_9-F-11/2/trajectory/2.csv found in trajectory folder!\n",
            "/content/drive/MyDrive/ExtractedWITSMLData/Norway-Statoil-NO 15_$47$_9-F-11/2/trajectory/3.csv\n",
            "/content/drive/MyDrive/ExtractedWITSMLData/Norway-Statoil-NO 15_$47$_9-F-11/2/trajectory/3.csv found in trajectory folder!\n",
            "/content/drive/MyDrive/ExtractedWITSMLData/Norway-Statoil-NO 15_$47$_9-F-11/3/trajectory/1.csv\n",
            "/content/drive/MyDrive/ExtractedWITSMLData/Norway-Statoil-NO 15_$47$_9-F-11/3/trajectory/1.csv found in trajectory folder!\n",
            "/content/drive/MyDrive/ExtractedWITSMLData/Norway-Statoil-NO 15_$47$_9-F-11/4/trajectory/1.csv\n",
            "/content/drive/MyDrive/ExtractedWITSMLData/Norway-Statoil-NO 15_$47$_9-F-11/4/trajectory/1.csv found in trajectory folder!\n",
            "/content/drive/MyDrive/ExtractedWITSMLData/Norway-Statoil-NO 15_$47$_9-F-12/1/trajectory/1.csv\n",
            "/content/drive/MyDrive/ExtractedWITSMLData/Norway-Statoil-NO 15_$47$_9-F-12/1/trajectory/1.csv found in trajectory folder!\n",
            "/content/drive/MyDrive/ExtractedWITSMLData/Norway-Statoil-NO 15_$47$_9-F-14/1/trajectory/1.csv\n",
            "/content/drive/MyDrive/ExtractedWITSMLData/Norway-Statoil-NO 15_$47$_9-F-14/1/trajectory/1.csv found in trajectory folder!\n",
            "/content/drive/MyDrive/ExtractedWITSMLData/Norway-Statoil-NO 15_$47$_9-F-15/1/trajectory/1.csv\n",
            "/content/drive/MyDrive/ExtractedWITSMLData/Norway-Statoil-NO 15_$47$_9-F-15/1/trajectory/1.csv found in trajectory folder!\n",
            "Checking is done.\n",
            "[PosixPath('/content/drive/MyDrive/ExtractedWITSMLData/Norway-Statoil-NO 15_$47$_9-F-4/1/trajectory/1.csv'), PosixPath('/content/drive/MyDrive/ExtractedWITSMLData/Norway-Statoil-NO 15_$47$_9-F-5/1/trajectory/1.csv'), PosixPath('/content/drive/MyDrive/ExtractedWITSMLData/Norway-Statoil-NO 15_$47$_9-F-7/1/trajectory/1.csv'), PosixPath('/content/drive/MyDrive/ExtractedWITSMLData/Norway-Statoil-NO 15_$47$_9-F-9/1/trajectory/1.csv'), PosixPath('/content/drive/MyDrive/ExtractedWITSMLData/Norway-StatoilHydro-15_$47$_9-F-10/1/trajectory/4.csv'), PosixPath('/content/drive/MyDrive/ExtractedWITSMLData/Norway-StatoilHydro-15_$47$_9-F-10/1/trajectory/2.csv'), PosixPath('/content/drive/MyDrive/ExtractedWITSMLData/Norway-StatoilHydro-15_$47$_9-F-10/1/trajectory/5.csv'), PosixPath('/content/drive/MyDrive/ExtractedWITSMLData/Norway-StatoilHydro-15_$47$_9-F-10/1/trajectory/3.csv'), PosixPath('/content/drive/MyDrive/ExtractedWITSMLData/Norway-StatoilHydro-15_$47$_9-F-10/1/trajectory/1.csv'), PosixPath('/content/drive/MyDrive/ExtractedWITSMLData/Norway-StatoilHydro-15_$47$_9-F-14/1/trajectory/3.csv'), PosixPath('/content/drive/MyDrive/ExtractedWITSMLData/Norway-StatoilHydro-15_$47$_9-F-14/1/trajectory/2.csv'), PosixPath('/content/drive/MyDrive/ExtractedWITSMLData/Norway-StatoilHydro-15_$47$_9-F-14/1/trajectory/4.csv'), PosixPath('/content/drive/MyDrive/ExtractedWITSMLData/Norway-StatoilHydro-15_$47$_9-F-14/1/trajectory/1.csv'), PosixPath('/content/drive/MyDrive/ExtractedWITSMLData/Norway-StatoilHydro-15_$47$_9-F-14/1/trajectory/5.csv'), PosixPath('/content/drive/MyDrive/ExtractedWITSMLData/Norway-StatoilHydro-15_$47$_9-F-15/1/trajectory/1.csv'), PosixPath('/content/drive/MyDrive/ExtractedWITSMLData/Norway-StatoilHydro-15_$47$_9-F-15/1/trajectory/2.csv'), PosixPath('/content/drive/MyDrive/ExtractedWITSMLData/Norway-StatoilHydro-15_$47$_9-F-15A/1/trajectory/2.csv'), PosixPath('/content/drive/MyDrive/ExtractedWITSMLData/Norway-StatoilHydro-15_$47$_9-F-15B/1/trajectory/1.csv'), PosixPath('/content/drive/MyDrive/ExtractedWITSMLData/Norway-StatoilHydro-15_$47$_9-F-15S/1/trajectory/1.csv'), PosixPath('/content/drive/MyDrive/ExtractedWITSMLData/Norway-StatoilHydro-15_$47$_9-F-15S/1/trajectory/2.csv'), PosixPath('/content/drive/MyDrive/ExtractedWITSMLData/Norway-StatoilHydro-15_$47$_9-F-4/2/trajectory/4.csv'), PosixPath('/content/drive/MyDrive/ExtractedWITSMLData/Norway-StatoilHydro-15_$47$_9-F-4/2/trajectory/2.csv'), PosixPath('/content/drive/MyDrive/ExtractedWITSMLData/Norway-StatoilHydro-15_$47$_9-F-4/2/trajectory/5.csv'), PosixPath('/content/drive/MyDrive/ExtractedWITSMLData/Norway-StatoilHydro-15_$47$_9-F-4/2/trajectory/3.csv'), PosixPath('/content/drive/MyDrive/ExtractedWITSMLData/Norway-StatoilHydro-15_$47$_9-F-4/2/trajectory/1.csv'), PosixPath('/content/drive/MyDrive/ExtractedWITSMLData/Norway-StatoilHydro-15_$47$_9-F-5/1/trajectory/1.csv'), PosixPath('/content/drive/MyDrive/ExtractedWITSMLData/Norway-StatoilHydro-15_$47$_9-F-5/1/trajectory/3.csv'), PosixPath('/content/drive/MyDrive/ExtractedWITSMLData/Norway-StatoilHydro-15_$47$_9-F-5/1/trajectory/2.csv'), PosixPath('/content/drive/MyDrive/ExtractedWITSMLData/Norway-StatoilHydro-15_$47$_9-F-5/1/trajectory/4.csv'), PosixPath('/content/drive/MyDrive/ExtractedWITSMLData/Norway-StatoilHydro-15_$47$_9-F-9/1/trajectory/1.csv'), PosixPath('/content/drive/MyDrive/ExtractedWITSMLData/Norway-StatoilHydro-15_$47$_9-F-9/1/trajectory/2.csv'), PosixPath('/content/drive/MyDrive/ExtractedWITSMLData/Norway-StatoilHydro-15_$47$_9-F-9/1/trajectory/3.csv'), PosixPath('/content/drive/MyDrive/ExtractedWITSMLData/Norway-NA-15_$47$_9-F-1/1/trajectory/1.csv'), PosixPath('/content/drive/MyDrive/ExtractedWITSMLData/Norway-NA-15_$47$_9-F-9 A/1/trajectory/2.csv'), PosixPath('/content/drive/MyDrive/ExtractedWITSMLData/Norway-NA-15_$47$_9-F-9 A/1/trajectory/1.csv'), PosixPath('/content/drive/MyDrive/ExtractedWITSMLData/Norway-Statoil-15_$47$_9-F-12/1/trajectory/1.csv'), PosixPath('/content/drive/MyDrive/ExtractedWITSMLData/Norway-Statoil-15_$47$_9-F-12/1/trajectory/3.csv'), PosixPath('/content/drive/MyDrive/ExtractedWITSMLData/Norway-Statoil-15_$47$_9-F-12/1/trajectory/5.csv'), PosixPath('/content/drive/MyDrive/ExtractedWITSMLData/Norway-Statoil-15_$47$_9-F-12/1/trajectory/6.csv'), PosixPath('/content/drive/MyDrive/ExtractedWITSMLData/Norway-Statoil-15_$47$_9-F-12/1/trajectory/4.csv'), PosixPath('/content/drive/MyDrive/ExtractedWITSMLData/Norway-Statoil-15_$47$_9-F-12/1/trajectory/2.csv'), PosixPath('/content/drive/MyDrive/ExtractedWITSMLData/Norway-Statoil-15_$47$_9-F-12/1/trajectory/7.csv'), PosixPath('/content/drive/MyDrive/ExtractedWITSMLData/Norway-Statoil-15_$47$_9-F-12/1/trajectory/8.csv'), PosixPath('/content/drive/MyDrive/ExtractedWITSMLData/Norway-Statoil-15_$47$_9-F-7/1/trajectory/1.csv'), PosixPath('/content/drive/MyDrive/ExtractedWITSMLData/Norway-Statoil-15_$47$_9-F-7/1/trajectory/2.csv'), PosixPath('/content/drive/MyDrive/ExtractedWITSMLData/Norway-Statoil-15_$47$_9-F-7/1/trajectory/3.csv'), PosixPath('/content/drive/MyDrive/ExtractedWITSMLData/Norway-Statoil-NO 15_$47$_9-F-1 C/1/trajectory/1.csv'), PosixPath('/content/drive/MyDrive/ExtractedWITSMLData/Norway-Statoil-NO 15_$47$_9-F-1 C/2/trajectory/1.csv'), PosixPath('/content/drive/MyDrive/ExtractedWITSMLData/Norway-Statoil-NO 15_$47$_9-F-1 C/2/trajectory/2.csv'), PosixPath('/content/drive/MyDrive/ExtractedWITSMLData/Norway-Statoil-NO 15_$47$_9-F-1 C/3/trajectory/1.csv'), PosixPath('/content/drive/MyDrive/ExtractedWITSMLData/Norway-Statoil-NO 15_$47$_9-F-1 C/4/trajectory/1.csv'), PosixPath('/content/drive/MyDrive/ExtractedWITSMLData/Norway-Statoil-NO 15_$47$_9-F-1 C/4/trajectory/2.csv'), PosixPath('/content/drive/MyDrive/ExtractedWITSMLData/Norway-Statoil-NO 15_$47$_9-F-11/1/trajectory/1.csv'), PosixPath('/content/drive/MyDrive/ExtractedWITSMLData/Norway-Statoil-NO 15_$47$_9-F-11/2/trajectory/1.csv'), PosixPath('/content/drive/MyDrive/ExtractedWITSMLData/Norway-Statoil-NO 15_$47$_9-F-11/2/trajectory/2.csv'), PosixPath('/content/drive/MyDrive/ExtractedWITSMLData/Norway-Statoil-NO 15_$47$_9-F-11/2/trajectory/3.csv'), PosixPath('/content/drive/MyDrive/ExtractedWITSMLData/Norway-Statoil-NO 15_$47$_9-F-11/3/trajectory/1.csv'), PosixPath('/content/drive/MyDrive/ExtractedWITSMLData/Norway-Statoil-NO 15_$47$_9-F-11/4/trajectory/1.csv'), PosixPath('/content/drive/MyDrive/ExtractedWITSMLData/Norway-Statoil-NO 15_$47$_9-F-12/1/trajectory/1.csv'), PosixPath('/content/drive/MyDrive/ExtractedWITSMLData/Norway-Statoil-NO 15_$47$_9-F-14/1/trajectory/1.csv'), PosixPath('/content/drive/MyDrive/ExtractedWITSMLData/Norway-Statoil-NO 15_$47$_9-F-15/1/trajectory/1.csv')]\n"
          ]
        }
      ]
    },
    {
      "cell_type": "code",
      "source": [
        "testDf=pd.read_csv(\"/content/drive/MyDrive/ExtractedWITSMLData/Norway-StatoilHydro-15_$47$_9-F-4/2/trajectory/5.csv\")\n",
        "testDf =testDf.reindex(sorted(testDf.columns), axis=1)\n",
        "testDf.columns[44]\n",
        "\n"
      ],
      "metadata": {
        "colab": {
          "base_uri": "https://localhost:8080/",
          "height": 36
        },
        "id": "2l3hwhNVpRYN",
        "outputId": "35610ceb-fcec-4308-97e5-92a9e3860049"
      },
      "execution_count": null,
      "outputs": [
        {
          "output_type": "execute_result",
          "data": {
            "text/plain": [
              "'md'"
            ],
            "application/vnd.google.colaboratory.intrinsic+json": {
              "type": "string"
            }
          },
          "metadata": {},
          "execution_count": 30
        }
      ]
    },
    {
      "cell_type": "code",
      "source": [
        "wellNames=[]\n",
        "for filepath in to_be_combined_files:\n",
        "  \n",
        "  well_name=str(filepath).split(\"/\")[5]\n",
        "  if well_name not in wellNames:\n",
        "      wellNames.append(well_name)\n",
        "\n",
        "for well in wellNames:\n",
        "  dfWells=[]\n",
        "  for file in to_be_combined_files:\n",
        "    if (str(file).split('/')[5]) == well:\n",
        "      df = pd.read_csv(str(file))\n",
        "      print(str(file))\n",
        "      df = df.reindex(sorted(df.columns), axis=1)  #reindex the dataframe with alphabetically sorted columns \n",
        "      df = df.drop('Unnamed: 0', axis=1)\n",
        "      df = df.replace(to_replace = '-999.25', value =-999.25)\n",
        "      df = df.replace(to_replace = -999.25, value =np.nan)\n",
        "      df = df.interpolate('linear')\n",
        "      df = df.set_index('md')\n",
        "      dfWells.append(df)\n",
        "  #set the output directory where need to save the data\n",
        "  output_directory=\"/content/drive/MyDrive/trajectory_data/combined_trajectory/\" \n",
        "  if not os.path.exists(output_directory):\n",
        "    os.makedirs(output_directory) \n",
        "  trajectoryDf = pd.concat(dfWells)\n",
        "  trajectoryDf = trajectoryDf.loc[~trajectoryDf.index.duplicated(keep='first')]\n",
        "  \n",
        "  trajectoryDf.sort_index(inplace=True)\n",
        "  trajectoryDf.to_csv(output_directory+well +'.csv')\n",
        "\n",
        "\n",
        "\n"
      ],
      "metadata": {
        "colab": {
          "base_uri": "https://localhost:8080/"
        },
        "id": "f48SlCp3871h",
        "outputId": "001fec76-4caa-4f75-fb29-49e658cee3c4"
      },
      "execution_count": 14,
      "outputs": [
        {
          "output_type": "stream",
          "name": "stdout",
          "text": [
            "/content/drive/MyDrive/ExtractedWITSMLData/Norway-Statoil-NO 15_$47$_9-F-4/1/trajectory/1.csv\n",
            "/content/drive/MyDrive/ExtractedWITSMLData/Norway-Statoil-NO 15_$47$_9-F-5/1/trajectory/1.csv\n",
            "/content/drive/MyDrive/ExtractedWITSMLData/Norway-Statoil-NO 15_$47$_9-F-7/1/trajectory/1.csv\n",
            "/content/drive/MyDrive/ExtractedWITSMLData/Norway-Statoil-NO 15_$47$_9-F-9/1/trajectory/1.csv\n",
            "/content/drive/MyDrive/ExtractedWITSMLData/Norway-StatoilHydro-15_$47$_9-F-10/1/trajectory/4.csv\n",
            "/content/drive/MyDrive/ExtractedWITSMLData/Norway-StatoilHydro-15_$47$_9-F-10/1/trajectory/2.csv\n",
            "/content/drive/MyDrive/ExtractedWITSMLData/Norway-StatoilHydro-15_$47$_9-F-10/1/trajectory/5.csv\n",
            "/content/drive/MyDrive/ExtractedWITSMLData/Norway-StatoilHydro-15_$47$_9-F-10/1/trajectory/3.csv\n",
            "/content/drive/MyDrive/ExtractedWITSMLData/Norway-StatoilHydro-15_$47$_9-F-10/1/trajectory/1.csv\n",
            "/content/drive/MyDrive/ExtractedWITSMLData/Norway-StatoilHydro-15_$47$_9-F-14/1/trajectory/3.csv\n",
            "/content/drive/MyDrive/ExtractedWITSMLData/Norway-StatoilHydro-15_$47$_9-F-14/1/trajectory/2.csv\n",
            "/content/drive/MyDrive/ExtractedWITSMLData/Norway-StatoilHydro-15_$47$_9-F-14/1/trajectory/4.csv\n",
            "/content/drive/MyDrive/ExtractedWITSMLData/Norway-StatoilHydro-15_$47$_9-F-14/1/trajectory/1.csv\n",
            "/content/drive/MyDrive/ExtractedWITSMLData/Norway-StatoilHydro-15_$47$_9-F-14/1/trajectory/5.csv\n",
            "/content/drive/MyDrive/ExtractedWITSMLData/Norway-StatoilHydro-15_$47$_9-F-15/1/trajectory/1.csv\n",
            "/content/drive/MyDrive/ExtractedWITSMLData/Norway-StatoilHydro-15_$47$_9-F-15/1/trajectory/2.csv\n",
            "/content/drive/MyDrive/ExtractedWITSMLData/Norway-StatoilHydro-15_$47$_9-F-15A/1/trajectory/2.csv\n",
            "/content/drive/MyDrive/ExtractedWITSMLData/Norway-StatoilHydro-15_$47$_9-F-15B/1/trajectory/1.csv\n",
            "/content/drive/MyDrive/ExtractedWITSMLData/Norway-StatoilHydro-15_$47$_9-F-15S/1/trajectory/1.csv\n",
            "/content/drive/MyDrive/ExtractedWITSMLData/Norway-StatoilHydro-15_$47$_9-F-15S/1/trajectory/2.csv\n",
            "/content/drive/MyDrive/ExtractedWITSMLData/Norway-StatoilHydro-15_$47$_9-F-4/2/trajectory/4.csv\n",
            "/content/drive/MyDrive/ExtractedWITSMLData/Norway-StatoilHydro-15_$47$_9-F-4/2/trajectory/2.csv\n",
            "/content/drive/MyDrive/ExtractedWITSMLData/Norway-StatoilHydro-15_$47$_9-F-4/2/trajectory/5.csv\n",
            "/content/drive/MyDrive/ExtractedWITSMLData/Norway-StatoilHydro-15_$47$_9-F-4/2/trajectory/3.csv\n",
            "/content/drive/MyDrive/ExtractedWITSMLData/Norway-StatoilHydro-15_$47$_9-F-4/2/trajectory/1.csv\n",
            "/content/drive/MyDrive/ExtractedWITSMLData/Norway-StatoilHydro-15_$47$_9-F-5/1/trajectory/1.csv\n",
            "/content/drive/MyDrive/ExtractedWITSMLData/Norway-StatoilHydro-15_$47$_9-F-5/1/trajectory/3.csv\n",
            "/content/drive/MyDrive/ExtractedWITSMLData/Norway-StatoilHydro-15_$47$_9-F-5/1/trajectory/2.csv\n",
            "/content/drive/MyDrive/ExtractedWITSMLData/Norway-StatoilHydro-15_$47$_9-F-5/1/trajectory/4.csv\n",
            "/content/drive/MyDrive/ExtractedWITSMLData/Norway-StatoilHydro-15_$47$_9-F-9/1/trajectory/1.csv\n",
            "/content/drive/MyDrive/ExtractedWITSMLData/Norway-StatoilHydro-15_$47$_9-F-9/1/trajectory/2.csv\n",
            "/content/drive/MyDrive/ExtractedWITSMLData/Norway-StatoilHydro-15_$47$_9-F-9/1/trajectory/3.csv\n",
            "/content/drive/MyDrive/ExtractedWITSMLData/Norway-NA-15_$47$_9-F-1/1/trajectory/1.csv\n",
            "/content/drive/MyDrive/ExtractedWITSMLData/Norway-NA-15_$47$_9-F-9 A/1/trajectory/2.csv\n",
            "/content/drive/MyDrive/ExtractedWITSMLData/Norway-NA-15_$47$_9-F-9 A/1/trajectory/1.csv\n",
            "/content/drive/MyDrive/ExtractedWITSMLData/Norway-Statoil-15_$47$_9-F-12/1/trajectory/1.csv\n",
            "/content/drive/MyDrive/ExtractedWITSMLData/Norway-Statoil-15_$47$_9-F-12/1/trajectory/3.csv\n",
            "/content/drive/MyDrive/ExtractedWITSMLData/Norway-Statoil-15_$47$_9-F-12/1/trajectory/5.csv\n",
            "/content/drive/MyDrive/ExtractedWITSMLData/Norway-Statoil-15_$47$_9-F-12/1/trajectory/6.csv\n",
            "/content/drive/MyDrive/ExtractedWITSMLData/Norway-Statoil-15_$47$_9-F-12/1/trajectory/4.csv\n",
            "/content/drive/MyDrive/ExtractedWITSMLData/Norway-Statoil-15_$47$_9-F-12/1/trajectory/2.csv\n",
            "/content/drive/MyDrive/ExtractedWITSMLData/Norway-Statoil-15_$47$_9-F-12/1/trajectory/7.csv\n",
            "/content/drive/MyDrive/ExtractedWITSMLData/Norway-Statoil-15_$47$_9-F-12/1/trajectory/8.csv\n",
            "/content/drive/MyDrive/ExtractedWITSMLData/Norway-Statoil-15_$47$_9-F-7/1/trajectory/1.csv\n",
            "/content/drive/MyDrive/ExtractedWITSMLData/Norway-Statoil-15_$47$_9-F-7/1/trajectory/2.csv\n",
            "/content/drive/MyDrive/ExtractedWITSMLData/Norway-Statoil-15_$47$_9-F-7/1/trajectory/3.csv\n",
            "/content/drive/MyDrive/ExtractedWITSMLData/Norway-Statoil-NO 15_$47$_9-F-1 C/1/trajectory/1.csv\n",
            "/content/drive/MyDrive/ExtractedWITSMLData/Norway-Statoil-NO 15_$47$_9-F-1 C/2/trajectory/1.csv\n",
            "/content/drive/MyDrive/ExtractedWITSMLData/Norway-Statoil-NO 15_$47$_9-F-1 C/2/trajectory/2.csv\n",
            "/content/drive/MyDrive/ExtractedWITSMLData/Norway-Statoil-NO 15_$47$_9-F-1 C/3/trajectory/1.csv\n",
            "/content/drive/MyDrive/ExtractedWITSMLData/Norway-Statoil-NO 15_$47$_9-F-1 C/4/trajectory/1.csv\n",
            "/content/drive/MyDrive/ExtractedWITSMLData/Norway-Statoil-NO 15_$47$_9-F-1 C/4/trajectory/2.csv\n",
            "/content/drive/MyDrive/ExtractedWITSMLData/Norway-Statoil-NO 15_$47$_9-F-11/1/trajectory/1.csv\n",
            "/content/drive/MyDrive/ExtractedWITSMLData/Norway-Statoil-NO 15_$47$_9-F-11/2/trajectory/1.csv\n",
            "/content/drive/MyDrive/ExtractedWITSMLData/Norway-Statoil-NO 15_$47$_9-F-11/2/trajectory/2.csv\n",
            "/content/drive/MyDrive/ExtractedWITSMLData/Norway-Statoil-NO 15_$47$_9-F-11/2/trajectory/3.csv\n",
            "/content/drive/MyDrive/ExtractedWITSMLData/Norway-Statoil-NO 15_$47$_9-F-11/3/trajectory/1.csv\n",
            "/content/drive/MyDrive/ExtractedWITSMLData/Norway-Statoil-NO 15_$47$_9-F-11/4/trajectory/1.csv\n",
            "/content/drive/MyDrive/ExtractedWITSMLData/Norway-Statoil-NO 15_$47$_9-F-12/1/trajectory/1.csv\n",
            "/content/drive/MyDrive/ExtractedWITSMLData/Norway-Statoil-NO 15_$47$_9-F-14/1/trajectory/1.csv\n",
            "/content/drive/MyDrive/ExtractedWITSMLData/Norway-Statoil-NO 15_$47$_9-F-15/1/trajectory/1.csv\n"
          ]
        }
      ]
    }
  ]
}